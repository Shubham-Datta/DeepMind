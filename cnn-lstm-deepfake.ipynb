{
 "cells": [
  {
   "cell_type": "code",
   "execution_count": null,
   "metadata": {
    "execution": {
     "iopub.execute_input": "2024-09-16T16:35:25.865734Z",
     "iopub.status.busy": "2024-09-16T16:35:25.865436Z",
     "iopub.status.idle": "2024-09-16T16:37:54.111213Z",
     "shell.execute_reply": "2024-09-16T16:37:54.110401Z",
     "shell.execute_reply.started": "2024-09-16T16:35:25.865705Z"
    },
    "trusted": true
   },
   "outputs": [],
   "source": [
    "# Install required packages\n",
    "!pip install -q opencv-python-headless ffmpeg-python facenet-pytorch efficientnet-pytorch keras-tuner imbalanced-learn cloud-tpu-client tf_keras"
   ]
  },
  {
   "cell_type": "code",
   "execution_count": null,
   "metadata": {
    "execution": {
     "iopub.execute_input": "2024-09-16T16:37:54.113179Z",
     "iopub.status.busy": "2024-09-16T16:37:54.112907Z",
     "iopub.status.idle": "2024-09-16T16:38:30.242680Z",
     "shell.execute_reply": "2024-09-16T16:38:30.241672Z",
     "shell.execute_reply.started": "2024-09-16T16:37:54.113151Z"
    },
    "trusted": true
   },
   "outputs": [],
   "source": [
    "# Import necessary libraries\n",
    "import os\n",
    "os.environ['TF_USE_LEGACY_KERAS'] = 'True'\n",
    "import cv2\n",
    "import ffmpeg\n",
    "import json\n",
    "import numpy as np\n",
    "import tensorflow as tf\n",
    "from pathlib import Path\n",
    "from concurrent.futures import ThreadPoolExecutor, ProcessPoolExecutor\n",
    "from facenet_pytorch import MTCNN\n",
    "from tensorflow.keras.applications import EfficientNetB6\n",
    "from tensorflow.keras.layers import Dense, LSTM, TimeDistributed, GlobalAveragePooling2D, Dropout, BatchNormalization\n",
    "from tensorflow.keras.models import Model, Sequential\n",
    "from tensorflow.keras.callbacks import EarlyStopping, ModelCheckpoint, ReduceLROnPlateau\n",
    "from sklearn.model_selection import train_test_split\n",
    "from keras_tuner import RandomSearch\n",
    "from keras.utils import to_categorical\n",
    "from imblearn.over_sampling import RandomOverSampler\n",
    "import matplotlib.pyplot as plt\n",
    "from PIL import Image\n",
    "import shutil\n",
    "from tensorflow.keras.preprocessing.image import ImageDataGenerator"
   ]
  },
  {
   "cell_type": "code",
   "execution_count": null,
   "metadata": {
    "execution": {
     "iopub.execute_input": "2024-09-16T16:38:30.244284Z",
     "iopub.status.busy": "2024-09-16T16:38:30.243747Z",
     "iopub.status.idle": "2024-09-16T16:38:39.483591Z",
     "shell.execute_reply": "2024-09-16T16:38:39.482642Z",
     "shell.execute_reply.started": "2024-09-16T16:38:30.244252Z"
    },
    "trusted": true
   },
   "outputs": [],
   "source": [
    "# Step 2: Ensure that TPU runtime is available\n",
    "try:\n",
    "    tpu = tf.distribute.cluster_resolver.TPUClusterResolver()\n",
    "    print('Running on TPU')\n",
    "    print('Cluster Spec:', tpu.cluster_spec().as_dict())\n",
    "except ValueError:\n",
    "    raise EnvironmentError('ERROR: Not connected to a TPU runtime; please select TPU from the \"Accelerator\" menu.')\n",
    "\n",
    "# Initialize the TPU\n",
    "tf.config.experimental_connect_to_cluster(tpu)\n",
    "tf.tpu.experimental.initialize_tpu_system(tpu)\n",
    "strategy = tf.distribute.TPUStrategy(tpu)\n",
    "\n",
    "print(\"All TPU systems initialized.\")"
   ]
  },
  {
   "cell_type": "code",
   "execution_count": null,
   "metadata": {
    "execution": {
     "iopub.execute_input": "2024-09-16T16:38:39.485110Z",
     "iopub.status.busy": "2024-09-16T16:38:39.484834Z",
     "iopub.status.idle": "2024-09-16T16:38:39.520174Z",
     "shell.execute_reply": "2024-09-16T16:38:39.519092Z",
     "shell.execute_reply.started": "2024-09-16T16:38:39.485081Z"
    },
    "trusted": true
   },
   "outputs": [],
   "source": [
    "# Step 3: Load the datasets\n",
    "train_dataset_folder = '/kaggle/input/d/shubhamdattamsit/deepfake-20gb/DEEPFAKE_20GB'  # Change this to your training dataset folder path\n",
    "val_dataset_folder = '/kaggle/input/validation-dataset-deepfake/test_sample_videos'  # Change this to your validation dataset folder path\n",
    "\n",
    "# Load metadata\n",
    "train_metadata_path = os.path.join(train_dataset_folder, 'metadata.json')\n",
    "val_metadata_path = os.path.join(val_dataset_folder, 'metadata_test.json')\n",
    "\n",
    "with open(train_metadata_path, 'r') as f:\n",
    "    train_metadata = json.load(f)\n",
    "\n",
    "with open(val_metadata_path, 'r') as f:\n",
    "    val_metadata = json.load(f)\n",
    "\n",
    "# Prepare lists for video paths and labels\n",
    "train_video_paths = []\n",
    "train_labels = []\n",
    "val_video_paths = []\n",
    "val_labels = []\n",
    "\n",
    "# Process training data\n",
    "for video, meta in train_metadata.items():\n",
    "    train_video_paths.append(os.path.join(train_dataset_folder, video))\n",
    "    train_labels.append(0 if meta['label'] == 'REAL' else 1)\n",
    "\n",
    "# Process validation data\n",
    "for video, meta in val_metadata.items():\n",
    "    val_video_paths.append(os.path.join(val_dataset_folder, video))\n",
    "    val_labels.append(0 if meta['label'] == 'REAL' else 1)\n",
    "\n",
    "# Convert to numpy arrays\n",
    "train_video_paths = np.array(train_video_paths)\n",
    "train_labels = np.array(train_labels)\n",
    "val_video_paths = np.array(val_video_paths)\n",
    "val_labels = np.array(val_labels)\n"
   ]
  },
  {
   "cell_type": "code",
   "execution_count": null,
   "metadata": {
    "execution": {
     "iopub.execute_input": "2024-09-16T16:38:39.522642Z",
     "iopub.status.busy": "2024-09-16T16:38:39.522384Z",
     "iopub.status.idle": "2024-09-16T16:38:39.533804Z",
     "shell.execute_reply": "2024-09-16T16:38:39.532883Z",
     "shell.execute_reply.started": "2024-09-16T16:38:39.522616Z"
    },
    "trusted": true
   },
   "outputs": [],
   "source": [
    "# Step 4: Data Balancing\n",
    "if len(np.unique(train_labels)) > 1:\n",
    "    ros = RandomOverSampler()\n",
    "    train_video_paths, train_labels = ros.fit_resample(train_video_paths.reshape(-1, 1), train_labels)\n",
    "    train_video_paths = train_video_paths.flatten()"
   ]
  },
  {
   "cell_type": "code",
   "execution_count": null,
   "metadata": {
    "execution": {
     "iopub.execute_input": "2024-09-16T16:38:39.534973Z",
     "iopub.status.busy": "2024-09-16T16:38:39.534741Z",
     "iopub.status.idle": "2024-09-16T17:14:12.163610Z",
     "shell.execute_reply": "2024-09-16T17:14:12.161931Z",
     "shell.execute_reply.started": "2024-09-16T16:38:39.534949Z"
    },
    "trusted": true
   },
   "outputs": [],
   "source": [
    "# Step 5: Extract frames\n",
    "frames_dir = '/kaggle/working/frames'\n",
    "Path(frames_dir).mkdir(parents=True, exist_ok=True)\n",
    "\n",
    "def extract_frames(video_path, frame_count=10):\n",
    "    try:\n",
    "        video_id = os.path.basename(video_path).split('.')[0]\n",
    "        output_dir = os.path.join(frames_dir, video_id)\n",
    "        Path(output_dir).mkdir(parents=True, exist_ok=True)\n",
    "\n",
    "        vidcap = cv2.VideoCapture(video_path)\n",
    "        total_frames = int(vidcap.get(cv2.CAP_PROP_FRAME_COUNT))\n",
    "        frame_indices = np.linspace(0, total_frames - 1, frame_count, dtype=int)\n",
    "\n",
    "        for idx in frame_indices:\n",
    "            vidcap.set(cv2.CAP_PROP_POS_FRAMES, idx)\n",
    "            success, image = vidcap.read()\n",
    "            if success:\n",
    "                frame_filename = os.path.join(output_dir, f\"frame_{idx}.jpg\")\n",
    "                cv2.imwrite(frame_filename, image)\n",
    "\n",
    "        vidcap.release()\n",
    "        return output_dir\n",
    "    except Exception as e:\n",
    "        print(f\"Error extracting frames from {video_path}: {str(e)}\")\n",
    "        return None\n",
    "\n",
    "def process_videos(video_paths, use_multiprocessing=True):\n",
    "    if use_multiprocessing:\n",
    "        with ProcessPoolExecutor() as executor:\n",
    "            results = list(executor.map(extract_frames, video_paths))\n",
    "    else:\n",
    "        with ThreadPoolExecutor() as executor:\n",
    "            results = list(executor.map(extract_frames, video_paths))\n",
    "\n",
    "    return [res for res in results if res is not None]\n",
    "\n",
    "# Process all training videos\n",
    "train_extracted_frames_dirs = process_videos(train_video_paths)\n",
    "# Process all validation videos\n",
    "val_extracted_frames_dirs = process_videos(val_video_paths)"
   ]
  },
  {
   "cell_type": "code",
   "execution_count": null,
   "metadata": {
    "execution": {
     "iopub.execute_input": "2024-09-16T17:14:12.165671Z",
     "iopub.status.busy": "2024-09-16T17:14:12.165325Z",
     "iopub.status.idle": "2024-09-16T17:14:23.953840Z",
     "shell.execute_reply": "2024-09-16T17:14:23.952720Z",
     "shell.execute_reply.started": "2024-09-16T17:14:12.165633Z"
    },
    "trusted": true
   },
   "outputs": [],
   "source": [
    "# Step 6: Detect faces and display\n",
    "mtcnn = MTCNN(keep_all=True, device='cpu')\n",
    "\n",
    "def detect_faces_and_display(batch_dirs, batch_size=5):\n",
    "    for i, dir in enumerate(batch_dirs[:batch_size]):\n",
    "        images = []\n",
    "        image_files = [f for f in os.listdir(dir) if f.endswith(('.jpg', '.png', '.jpeg', '.bmp', '.tiff'))]\n",
    "        for filename in image_files:\n",
    "            image_path = os.path.join(dir, filename)\n",
    "            image = cv2.imread(image_path)\n",
    "            if image is not None:\n",
    "                images.append(image)\n",
    "        \n",
    "        if not images:\n",
    "            print(f\"No images found in {dir}. Skipping...\")\n",
    "            continue\n",
    "        \n",
    "        images_rgb = [cv2.cvtColor(img, cv2.COLOR_BGR2RGB) for img in images]\n",
    "        images_pil = [Image.fromarray(img) for img in images_rgb]\n",
    "\n",
    "        # Detect faces\n",
    "        results = [mtcnn.detect(img, landmarks=True) for img in images_pil]\n",
    "\n",
    "        plt.figure(figsize=(15, 10))\n",
    "        for j, (img, result) in enumerate(zip(images_rgb, results)):\n",
    "            boxes, probs, landmarks = result\n",
    "            \n",
    "            if boxes is not None:\n",
    "                for box in boxes:\n",
    "                    box = box.astype(int)  # Convert to integer\n",
    "                    cv2.rectangle(img, (box[0], box[1]), (box[2], box[3]), (0, 255, 0), 2)\n",
    "            \n",
    "            plt.subplot(1, len(images), j + 1)\n",
    "            plt.imshow(img)\n",
    "            plt.axis('off')\n",
    "        plt.show()\n",
    "\n",
    "# Display faces from training data\n",
    "detect_faces_and_display(train_extracted_frames_dirs[:20])"
   ]
  },
  {
   "cell_type": "code",
   "execution_count": null,
   "metadata": {
    "execution": {
     "iopub.execute_input": "2024-09-16T17:14:23.955808Z",
     "iopub.status.busy": "2024-09-16T17:14:23.955509Z",
     "iopub.status.idle": "2024-09-16T17:20:11.789253Z",
     "shell.execute_reply": "2024-09-16T17:20:11.787721Z",
     "shell.execute_reply.started": "2024-09-16T17:14:23.955779Z"
    },
    "trusted": true
   },
   "outputs": [],
   "source": [
    "# Step 7: Prepare dataset with data augmentation\n",
    "from multiprocessing import Pool, cpu_count\n",
    "\n",
    "# Data augmentation generator\n",
    "datagen = ImageDataGenerator(\n",
    "    rotation_range=20,\n",
    "    width_shift_range=0.2,\n",
    "    height_shift_range=0.2,\n",
    "    shear_range=0.2,\n",
    "    zoom_range=0.2,\n",
    "    horizontal_flip=True,\n",
    "    fill_mode='nearest'\n",
    ")\n",
    "\n",
    "# Function to process a single directory (sequence)\n",
    "def process_sequence(args):\n",
    "    dir, label, frame_count, augment = args\n",
    "    image_files = sorted([f for f in os.listdir(dir) if f.endswith(('.jpg', '.png', '.jpeg', '.bmp', '.tiff'))])\n",
    "    frames = []\n",
    "    for j in range(frame_count):\n",
    "        img_path = os.path.join(dir, image_files[j])\n",
    "        img = cv2.imread(img_path)\n",
    "        img = cv2.resize(img, (528, 528))  # Resizing to 528x528 for EfficientNetB6\n",
    "        \n",
    "        if augment:\n",
    "            img = datagen.random_transform(img)\n",
    "        \n",
    "        frames.append(img)\n",
    "    \n",
    "    return np.stack(frames), label\n",
    "\n",
    "# Prepare dataset with multiprocessing\n",
    "def prepare_dataset(extracted_dirs, labels, frame_count=10, augment=False):\n",
    "    num_workers = cpu_count() - 1  # Use all but one CPU core to prevent overload\n",
    "    pool = Pool(processes=num_workers)\n",
    "\n",
    "    # Prepare arguments for parallel processing\n",
    "    args = [(extracted_dirs[i], labels[i], frame_count, augment) for i in range(len(extracted_dirs))]\n",
    "\n",
    "    # Process all sequences in parallel\n",
    "    results = pool.map(process_sequence, args)\n",
    "    pool.close()\n",
    "    pool.join()\n",
    "\n",
    "    # Unzip results\n",
    "    data, labels_out = zip(*results)\n",
    "    return np.array(data), np.array(labels_out)\n",
    "\n",
    "# Prepare dataset with sequences of frames\n",
    "X_train, y_train = prepare_dataset(train_extracted_frames_dirs, train_labels, augment=True)\n",
    "X_val, y_val = prepare_dataset(val_extracted_frames_dirs, val_labels, augment=False)\n",
    "\n",
    "# Convert labels to categorical\n",
    "y_train = to_categorical(y_train, num_classes=2)\n",
    "y_val = to_categorical(y_val, num_classes=2)\n",
    "\n",
    "# Check the shapes to confirm\n",
    "print(\"Training data shape:\", X_train.shape)  # Expected shape: (num_samples, 10, , , 3)\n",
    "print(\"Validation data shape:\", X_val.shape)  # Expected shape: (num_samples, 10, , , 3)\n"
   ]
  },
  {
   "cell_type": "code",
   "execution_count": null,
   "metadata": {
    "execution": {
     "iopub.execute_input": "2024-09-16T17:20:11.791322Z",
     "iopub.status.busy": "2024-09-16T17:20:11.790990Z",
     "iopub.status.idle": "2024-09-16T17:22:08.277372Z",
     "shell.execute_reply": "2024-09-16T17:22:08.276244Z",
     "shell.execute_reply.started": "2024-09-16T17:20:11.791288Z"
    },
    "trusted": true
   },
   "outputs": [],
   "source": [
    "# Step 8: Optimize Data Pipeline using tf.data\n",
    "AUTOTUNE = tf.data.experimental.AUTOTUNE\n",
    "\n",
    "def create_tf_dataset(X, y, batch_size=16):\n",
    "    dataset = tf.data.Dataset.from_tensor_slices((X, y))\n",
    "    dataset = dataset.shuffle(buffer_size=1024).batch(batch_size)\n",
    "    dataset = dataset.prefetch(buffer_size=AUTOTUNE)\n",
    "    return dataset\n",
    "\n",
    "# Create datasets\n",
    "batch_size = 16  # Adjust batch size based on your memory availability and TPU capacity\n",
    "ds_train = create_tf_dataset(X_train, y_train, batch_size)\n",
    "ds_val = create_tf_dataset(X_val, y_val, batch_size)"
   ]
  },
  {
   "cell_type": "code",
   "execution_count": null,
   "metadata": {
    "execution": {
     "iopub.execute_input": "2024-09-16T17:22:08.279151Z",
     "iopub.status.busy": "2024-09-16T17:22:08.278830Z",
     "iopub.status.idle": "2024-09-16T17:23:24.762173Z",
     "shell.execute_reply": "2024-09-16T17:23:24.761100Z",
     "shell.execute_reply.started": "2024-09-16T17:22:08.279119Z"
    },
    "trusted": true
   },
   "outputs": [],
   "source": [
    "# Step 9: Build the CNN+LSTM model with EfficientNetB6\n",
    "with strategy.scope():\n",
    "    def build_model(num_classes):\n",
    "        inputs = tf.keras.layers.Input(shape=(10, 528, 528, 3))\n",
    "        cnn_base = EfficientNetB6(include_top=False, weights=\"imagenet\", input_shape=(528, 528, 3))\n",
    "        \n",
    "        cnn_base.trainable = False  # Freeze all layers for initial training\n",
    "        \n",
    "        # Apply CNN to each frame\n",
    "        x = TimeDistributed(cnn_base)(inputs)\n",
    "        x = TimeDistributed(GlobalAveragePooling2D())(x)\n",
    "        x = LSTM(64, return_sequences=False)(x)\n",
    "        x = BatchNormalization()(x)\n",
    "        x = Dropout(0.5)(x)  # Regularization\n",
    "        \n",
    "        outputs = Dense(num_classes, activation='softmax')(x)\n",
    "        model = Model(inputs, outputs)\n",
    "        \n",
    "        optimizer = tf.keras.optimizers.legacy.Adam(learning_rate=1e-4)\n",
    "        model.compile(optimizer=optimizer, loss=\"categorical_crossentropy\", metrics=[\"accuracy\"])\n",
    "        return model\n",
    "\n",
    "    model = build_model(num_classes=2)\n"
   ]
  },
  {
   "cell_type": "code",
   "execution_count": null,
   "metadata": {
    "execution": {
     "iopub.execute_input": "2024-09-16T17:23:24.763595Z",
     "iopub.status.busy": "2024-09-16T17:23:24.763251Z",
     "iopub.status.idle": "2024-09-16T18:06:47.858478Z",
     "shell.execute_reply": "2024-09-16T18:06:47.857280Z",
     "shell.execute_reply.started": "2024-09-16T17:23:24.763568Z"
    },
    "trusted": true
   },
   "outputs": [],
   "source": [
    "# Step 10: Train the model (first stage)\n",
    "early_stopping = EarlyStopping(monitor='val_loss', patience=10, restore_best_weights=True)\n",
    "checkpoint = ModelCheckpoint('/kaggle/working/model_best.keras', save_best_only=True, monitor='val_loss', mode='min')\n",
    "reduce_lr = ReduceLROnPlateau(monitor='val_loss', factor=0.2, patience=5, min_lr=1e-6)\n",
    "\n",
    "epochs = 50  # Set according to dataset size\n",
    "history = model.fit(ds_train, epochs=epochs, validation_data=ds_val, callbacks=[early_stopping, checkpoint, reduce_lr])"
   ]
  },
  {
   "cell_type": "code",
   "execution_count": null,
   "metadata": {
    "execution": {
     "iopub.execute_input": "2024-09-16T18:10:36.027741Z",
     "iopub.status.busy": "2024-09-16T18:10:36.026741Z",
     "iopub.status.idle": "2024-09-16T18:10:36.101651Z",
     "shell.execute_reply": "2024-09-16T18:10:36.100520Z",
     "shell.execute_reply.started": "2024-09-16T18:10:36.027700Z"
    },
    "trusted": true
   },
   "outputs": [],
   "source": [
    "# Step 11: Fine-tune the model by unfreezing the layers\n",
    "def unfreeze_model(model):\n",
    "    # Access the EfficientNetB6 model inside the TimeDistributed layer\n",
    "    efficientnet_b6 = model.layers[1].layer  # layer[1] is TimeDistributed, and .layer gives us EfficientNetB6\n",
    "\n",
    "    # Unfreeze the last 30 layers of EfficientNetB6 (excluding BatchNormalization layers)\n",
    "    for layer in efficientnet_b6.layers[-30:]:\n",
    "        if not isinstance(layer, tf.keras.layers.BatchNormalization):\n",
    "            layer.trainable = True\n",
    "\n",
    "    # Re-compile the model with a lower learning rate for fine-tuning\n",
    "    optimizer = tf.keras.optimizers.legacy.Adam(learning_rate=1e-5)\n",
    "    model.compile(\n",
    "        optimizer=optimizer, loss=\"categorical_crossentropy\", metrics=[\"accuracy\"]\n",
    "    )\n",
    "\n",
    "\n",
    "# Unfreeze and recompile the model for fine-tuning\n",
    "unfreeze_model(model)"
   ]
  },
  {
   "cell_type": "code",
   "execution_count": null,
   "metadata": {
    "execution": {
     "iopub.execute_input": "2024-09-16T19:30:22.313365Z",
     "iopub.status.busy": "2024-09-16T19:30:22.312402Z",
     "iopub.status.idle": "2024-09-16T20:14:18.474389Z",
     "shell.execute_reply": "2024-09-16T20:14:18.472937Z",
     "shell.execute_reply.started": "2024-09-16T19:30:22.313327Z"
    },
    "trusted": true
   },
   "outputs": [],
   "source": [
    "# Step 12: Fine-tune the model (second stage)\n",
    "epochs_finetune = 30  # Adjust this based on how much more you want to train\n",
    "history_finetune = model.fit(\n",
    "    ds_train,\n",
    "    epochs=epochs_finetune,\n",
    "    validation_data=ds_val,\n",
    "    callbacks=[early_stopping, checkpoint, reduce_lr]\n",
    ")"
   ]
  },
  {
   "cell_type": "code",
   "execution_count": null,
   "metadata": {
    "execution": {
     "iopub.execute_input": "2024-09-16T20:25:05.495906Z",
     "iopub.status.busy": "2024-09-16T20:25:05.494655Z",
     "iopub.status.idle": "2024-09-16T20:25:06.576179Z",
     "shell.execute_reply": "2024-09-16T20:25:06.574992Z",
     "shell.execute_reply.started": "2024-09-16T20:25:05.495860Z"
    },
    "trusted": true
   },
   "outputs": [],
   "source": [
    "# Save the fine-tuned model\n",
    "\n",
    "model.save('/kaggle/working/final_deepfake_detection_model_CNN+LSTM.h5')\n",
    "\n",
    "print(\"Model training and fine-tuning completed successfully.\")"
   ]
  },
  {
   "cell_type": "code",
   "execution_count": null,
   "metadata": {
    "execution": {
     "iopub.execute_input": "2024-09-16T20:25:06.577971Z",
     "iopub.status.busy": "2024-09-16T20:25:06.577671Z",
     "iopub.status.idle": "2024-09-16T20:25:07.908607Z",
     "shell.execute_reply": "2024-09-16T20:25:07.907656Z",
     "shell.execute_reply.started": "2024-09-16T20:25:06.577940Z"
    },
    "trusted": true
   },
   "outputs": [],
   "source": [
    "# Step 13: Plot fine-tuning history (accuracy and loss)\n",
    "def plot_finetune_history(history, history_finetune):\n",
    "    # Combine both histories\n",
    "    acc = history.history['accuracy'] + history_finetune.history['accuracy']\n",
    "    val_acc = history.history['val_accuracy'] + history_finetune.history['val_accuracy']\n",
    "    loss = history.history['loss'] + history_finetune.history['loss']\n",
    "    val_loss = history.history['val_loss'] + history_finetune.history['val_loss']\n",
    "\n",
    "    epochs_range = range(len(acc))\n",
    "\n",
    "    plt.figure(figsize=(12, 6))\n",
    "\n",
    "    # Plot Accuracy\n",
    "    plt.subplot(1, 2, 1)\n",
    "    plt.plot(epochs_range, acc, label='Training Accuracy')\n",
    "    plt.plot(epochs_range, val_acc, label='Validation Accuracy')\n",
    "    plt.legend(loc='lower right')\n",
    "    plt.title('Training and Validation Accuracy')\n",
    "\n",
    "    # Plot Loss\n",
    "    plt.subplot(1, 2, 2)\n",
    "    plt.plot(epochs_range, loss, label='Training Loss')\n",
    "    plt.plot(epochs_range, val_loss, label='Validation Loss')\n",
    "    plt.legend(loc='upper right')\n",
    "    plt.title('Training and Validation Loss')\n",
    "\n",
    "    plt.show()\n",
    "\n",
    "# Plot the fine-tuning results\n",
    "plot_finetune_history(history, history_finetune)"
   ]
  },
  {
   "cell_type": "code",
   "execution_count": null,
   "metadata": {
    "execution": {
     "iopub.execute_input": "2024-09-16T20:31:36.288365Z",
     "iopub.status.busy": "2024-09-16T20:31:36.287441Z",
     "iopub.status.idle": "2024-09-16T20:31:38.161025Z",
     "shell.execute_reply": "2024-09-16T20:31:38.160011Z",
     "shell.execute_reply.started": "2024-09-16T20:31:36.288327Z"
    },
    "trusted": true
   },
   "outputs": [],
   "source": [
    "print(tf.__version__)"
   ]
  }
 ],
 "metadata": {
  "kaggle": {
   "accelerator": "tpu1vmV38",
   "dataSources": [
    {
     "datasetId": 5625885,
     "sourceId": 9292754,
     "sourceType": "datasetVersion"
    },
    {
     "datasetId": 5645538,
     "sourceId": 9320083,
     "sourceType": "datasetVersion"
    }
   ],
   "isGpuEnabled": false,
   "isInternetEnabled": true,
   "language": "python",
   "sourceType": "notebook"
  },
  "kernelspec": {
   "display_name": "Python 3",
   "language": "python",
   "name": "python3"
  },
  "language_info": {
   "codemirror_mode": {
    "name": "ipython",
    "version": 3
   },
   "file_extension": ".py",
   "mimetype": "text/x-python",
   "name": "python",
   "nbconvert_exporter": "python",
   "pygments_lexer": "ipython3",
   "version": "3.10.14"
  }
 },
 "nbformat": 4,
 "nbformat_minor": 4
}
